{
 "cells": [
  {
   "cell_type": "markdown",
   "metadata": {},
   "source": [
    "# <center>PyTen Package Tutorial</center>\n",
    "#### <center>Texas A&M University HELIOS Group</center>"
   ]
  },
  {
   "cell_type": "markdown",
   "metadata": {},
   "source": [
    "## Import PyTen Packge"
   ]
  },
  {
   "cell_type": "code",
   "execution_count": null,
   "metadata": {
    "collapsed": false
   },
   "outputs": [],
   "source": [
    "import pyten"
   ]
  },
  {
   "cell_type": "markdown",
   "metadata": {},
   "source": [
    "## Quick Start"
   ]
  },
  {
   "cell_type": "code",
   "execution_count": null,
   "metadata": {
    "collapsed": false,
    "scrolled": false
   },
   "outputs": [],
   "source": [
    "# This is a quick start without prior input\n",
    "[OriTensor, DeTensor, TenClass, RecTensor] = pyten.UI.helios()"
   ]
  },
  {
   "cell_type": "markdown",
   "metadata": {},
   "source": [
    "Show Results as follows:\n",
    "* Original Tensor"
   ]
  },
  {
   "cell_type": "code",
   "execution_count": null,
   "metadata": {
    "collapsed": false
   },
   "outputs": [],
   "source": [
    "print OriTensor  # Original Tensor"
   ]
  },
  {
   "cell_type": "markdown",
   "metadata": {},
   "source": [
    "* Full Tensor reconstructed by decomposed matrices"
   ]
  },
  {
   "cell_type": "code",
   "execution_count": null,
   "metadata": {
    "collapsed": false
   },
   "outputs": [],
   "source": [
    "print DeTensor.data  # Full Tensor reconstructed by decomposed matrices"
   ]
  },
  {
   "cell_type": "markdown",
   "metadata": {},
   "source": [
    "* Final Decomposition Results e.g. Ttensor or Ktensor"
   ]
  },
  {
   "cell_type": "code",
   "execution_count": null,
   "metadata": {
    "collapsed": false
   },
   "outputs": [],
   "source": [
    "print TenClass  # Final Decomposition Results e.g. Ttensor or Ktensor"
   ]
  },
  {
   "cell_type": "markdown",
   "metadata": {},
   "source": [
    "* Recovered Tensor (Completed Tensor)"
   ]
  },
  {
   "cell_type": "code",
   "execution_count": null,
   "metadata": {
    "collapsed": false
   },
   "outputs": [],
   "source": [
    "print RecTensor.data  # Recovered Tensor (Completed Tensor)"
   ]
  },
  {
   "cell_type": "markdown",
   "metadata": {
    "collapsed": true
   },
   "source": [
    "## Four UI Functions For Four Scenarios\n",
    "### Scenario 1: Basic Tensor completion or decomposition."
   ]
  },
  {
   "cell_type": "code",
   "execution_count": null,
   "metadata": {
    "collapsed": false
   },
   "outputs": [],
   "source": [
    "[OriTensor, DeTensor, TenClass, RecTensor] = pyten.UI.basic()"
   ]
  },
  {
   "cell_type": "markdown",
   "metadata": {},
   "source": [
    "### Scenario 2: Tensor completion or decomposition with auxiliary information"
   ]
  },
  {
   "cell_type": "code",
   "execution_count": null,
   "metadata": {
    "collapsed": false
   },
   "outputs": [],
   "source": [
    "[OriTensor, DeTensor, TenClass, RecTensor] = pyten.UI.auxiliary()"
   ]
  },
  {
   "cell_type": "markdown",
   "metadata": {},
   "source": [
    "### Scenario 3: Dynamic/Online/Streaming Tensor completion or decomposition"
   ]
  },
  {
   "cell_type": "code",
   "execution_count": null,
   "metadata": {
    "collapsed": false
   },
   "outputs": [],
   "source": [
    "[OriTensor, DeTensor, TenClass, RecTensor] = pyten.UI.dynamic()"
   ]
  },
  {
   "cell_type": "markdown",
   "metadata": {},
   "source": [
    "### Scenario 4: Scalable Tensor completion or decomposition"
   ]
  },
  {
   "cell_type": "code",
   "execution_count": null,
   "metadata": {
    "collapsed": false
   },
   "outputs": [],
   "source": [
    "[OriTensor, DeTensor, TenClass, RecTensor] = pyten.UI.scalable()"
   ]
  },
  {
   "cell_type": "markdown",
   "metadata": {},
   "source": [
    "## Usage of Main Functions\n",
    "### Function: create\n",
    "1. Create Tensor Completion Problem"
   ]
  },
  {
   "cell_type": "code",
   "execution_count": null,
   "metadata": {
    "collapsed": true
   },
   "outputs": [],
   "source": [
    "from pyten.tools import create  # Import the problem creation function\n",
    "\n",
    "problem = 'basic'  # Problem Definition\n",
    "siz = [20, 20, 20]  # Size of the Created Synthetic Tensor\n",
    "r = [4, 4, 4]  # Rank of the Created Synthetic Tensor\n",
    "miss = 0.8  # Missing Percentage\n",
    "tp = 'CP'  # Solution Format (Creating Method) of the Created Synthetic Tensor\n",
    "[X1, Omega1, sol1] = create(problem, siz, r, miss, tp)"
   ]
  },
  {
   "cell_type": "markdown",
   "metadata": {},
   "source": [
    "### Scenario 1: Basic Tensor Completion/Decomposition\n",
    "#### 1. Solve Synthetic Completion Problem"
   ]
  },
  {
   "cell_type": "code",
   "execution_count": null,
   "metadata": {
    "collapsed": false
   },
   "outputs": [],
   "source": [
    "from pyten.tools import create  # Import the problem creation function\n",
    "\n",
    "problem = 'basic'  # Define Problem As Basic Tensor Completion Problem\n",
    "siz = [20, 20, 20]  # Size of the Created Synthetic Tensor\n",
    "r = [4, 4, 4]  # Rank of the Created Synthetic Tensor\n",
    "miss = 0.8  # Missing Percentage\n",
    "tp = 'CP'  # Define Solution Format of the Created Synthetic Tensor As 'CP decomposition'\n",
    "[X1, Omega1, sol1] = create(problem, siz, r, miss, tp)\n",
    "\n",
    "# Basic Tensor Completion with methods: CP-ALS,Tucker-ALS, FaLRTC, SiLRTC, HaLRTC, TNCP\n",
    "from pyten.method import *\n",
    "\n",
    "r = 4  # Rank for CP-based methods\n",
    "R = [4, 4, 4]  # Rank for tucker-based methods\n",
    "# CP-ALS\n",
    "[T1, rX1] = cp_als(X1, r, Omega1)  # if no missing data just omit Omega1 by using [T1,rX1]=cp_als.cp_als(X1,r)\n",
    "# print sol1.totensor().data\n",
    "# print rX1.data\n",
    "\n",
    "# Tucker-ALS\n",
    "[T2, rX2] = tucker_als(X1, R, Omega1)  # if no missing data just omit Omega1\n",
    "# FalRTC, SiLRTC, HaLRTC\n",
    "rX3 = falrtc(X1, Omega1)\n",
    "rX4 = silrtc(X1, Omega1)\n",
    "rX5 = halrtc(X1, Omega1)\n",
    "# TNCP\n",
    "self1 = TNCP(X1, Omega1, rank=r)\n",
    "self1.run()\n",
    "\n",
    "# Error Testing\n",
    "from pyten.tools import tenerror\n",
    "\n",
    "realX = sol1.totensor()\n",
    "[Err1, ReErr11, ReErr21] = tenerror(rX1, realX, Omega1)\n",
    "[Err2, ReErr12, ReErr22] = tenerror(rX2, realX, Omega1)\n",
    "[Err3, ReErr13, ReErr23] = tenerror(rX3, realX, Omega1)\n",
    "[Err4, ReErr14, ReErr24] = tenerror(rX4, realX, Omega1)\n",
    "[Err5, ReErr15, ReErr25] = tenerror(rX5, realX, Omega1)\n",
    "[Err6, ReErr16, ReErr26] = tenerror(self1.X, realX, Omega1)\n",
    "print '\\n', 'The Relative Error of the Six Methods are:', ReErr21, ReErr22, ReErr23, ReErr24, ReErr25, ReErr26\n"
   ]
  },
  {
   "cell_type": "markdown",
   "metadata": {},
   "source": [
    "#### 2. Real Problem - Image Recovery"
   ]
  },
  {
   "cell_type": "code",
   "execution_count": null,
   "metadata": {
    "collapsed": false
   },
   "outputs": [],
   "source": [
    "import matplotlib.image as mpimg  # Use it to load image\n",
    "import numpy as np\n",
    "\n",
    "lena = mpimg.imread(\"test/testImg.png\")\n",
    "im = np.double(np.uint8(lena * 255))\n",
    "im = im[0:50, 0:50, 0:3]\n",
    "\n",
    "from pyten.tenclass import Tensor  # Use it to construct Tensor object\n",
    "\n",
    "X1 = Tensor(im)  # Construct Image Tensor to be Completed\n",
    "X0 = X1.data.copy()\n",
    "X0 = Tensor(X0)  # Save the Ground Truth\n",
    "Omega1 = (im < 100) * 1.0  # Missing index Tensor\n",
    "X1.data[Omega1 == 0] = 0\n",
    "\n",
    "# Basic Tensor Completion with methods: CP-ALS, Tucker-ALS, FaLRTC, SiLRTC, HaLRTC, TNCP\n",
    "from pyten.method import *\n",
    "\n",
    "r = 10\n",
    "R = [10, 10, 3]  # Rank for tucker-based methods\n",
    "[T1, rX1] = cp_als(X1, r, Omega1, maxiter=1000, printitn=100)\n",
    "[T2, rX2] = tucker_als(X1, R, Omega1, max_iter=100, printitn=100)\n",
    "alpha = np.array([1.0, 1.0, 1e-3])\n",
    "alpha = alpha / sum(alpha)\n",
    "rX3 = falrtc(X1, Omega1, max_iter=100, alpha=alpha)\n",
    "rX4 = silrtc(X1, Omega1, max_iter=100, alpha=alpha)\n",
    "rX5 = halrtc(X1, Omega1, max_iter=100, alpha=alpha)\n",
    "self1 = TNCP(X1, Omega1, rank=r)\n",
    "self1.run()\n",
    "\n",
    "# Error Testing\n",
    "from pyten.tools import tenerror\n",
    "\n",
    "realX = X0\n",
    "[Err1, ReErr11, ReErr21] = tenerror(rX1, realX, Omega1)\n",
    "[Err2, ReErr12, ReErr22] = tenerror(rX2, realX, Omega1)\n",
    "[Err3, ReErr13, ReErr23] = tenerror(rX3, realX, Omega1)\n",
    "[Err4, ReErr14, ReErr24] = tenerror(rX4, realX, Omega1)\n",
    "[Err5, ReErr15, ReErr25] = tenerror(rX5, realX, Omega1)\n",
    "[Err6, ReErr16, ReErr26] = tenerror(self1.X, realX, Omega1)\n",
    "print '\\n', 'The Relative Error of the Six Methods are:', ReErr21, ReErr22, ReErr23, ReErr24, ReErr25, ReErr26\n"
   ]
  },
  {
   "cell_type": "markdown",
   "metadata": {},
   "source": [
    "### Scenario 2: Tensor Completion/Decomposition with Auxiliary Information\n",
    "#### 1. Use  AirCP Method to solve Tensor Completion With Auxiliary Similarity Matrices"
   ]
  },
  {
   "cell_type": "code",
   "execution_count": null,
   "metadata": {
    "collapsed": false
   },
   "outputs": [],
   "source": [
    "from pyten.method import AirCP  # Import AirCP\n",
    "from pyten.tools import create  # Import the problem creation function\n",
    "\n",
    "problem = 'auxiliary'  # Define Problem As Basic Tensor Completion Problem\n",
    "siz = [20, 20, 20]  # Size of the Created Synthetic Tensor\n",
    "r = [4, 4, 4]  # Rank of the Created Synthetic Tensor\n",
    "miss = 0.8  # Missing Percentage\n",
    "tp = 'sim'  # Define Auxiliary Information As 'Similarity Matrices'\n",
    "# Construct Similarity Matrices (if 'None', then it will use the default Similarity Matrices)\n",
    "# aux = [np.diag(np.ones(siz[n]-1), -1)+np.diag(np.ones(siz[n]-1), 1) for n in range(dims)]\n",
    "aux = None\n",
    "[X1, Omega1, sol1, sim_matrices] = create(problem, siz, r, miss, tp, aux=aux)\n",
    "\n",
    "self = AirCP(X1, Omega1, r, sim_mats=sim_matrices)\n",
    "self.run()\n",
    "# self_no_aux = AirCP(X1, Omega1, r)\n",
    "# self_no_aux.run()\n",
    "\n",
    "# Error Testing\n",
    "from pyten.tools import tenerror\n",
    "\n",
    "realX = sol1.totensor()\n",
    "[Err1, ReErr11, ReErr21] = tenerror(self.X, realX, Omega1)\n",
    "# [Err2, ReErr12, ReErr22] = tenerror(self_no_aux.X, realX, Omega1)\n",
    "print '\\n', 'The Relative Error of the Two Methods are:', ReErr11\n"
   ]
  },
  {
   "cell_type": "markdown",
   "metadata": {},
   "source": [
    "#### 2. Use  CMTF Method to solve Tensor Completion With Coupled Matrices"
   ]
  },
  {
   "cell_type": "code",
   "execution_count": null,
   "metadata": {
    "collapsed": false
   },
   "outputs": [],
   "source": [
    "from pyten.method import cmtf\n",
    "from pyten.tools import create  # Import the problem creation function\n",
    "import numpy as np\n",
    "\n",
    "problem = 'auxiliary'  # Define Problem As Basic Tensor Completion Problem\n",
    "siz = [20, 20, 20]  # Size of the Created Synthetic Tensor\n",
    "r = [4, 4, 4]  # Rank of the Created Synthetic Tensor\n",
    "miss = 0.8  # Missing Percentage\n",
    "tp = 'couple'  # Define Auxiliary Information As 'Similarity Matrices'\n",
    "# Construct Similarity Matrices (if 'None', then it will use the default Similarity Matrices)\n",
    "dims = 3\n",
    "[X1, Omega1, sol1, coupled_matrices] = create(problem, siz, r, miss, tp)\n",
    "\n",
    "[T1, Rec1, V1] = cmtf(X1, coupled_matrices, [1, 2, 3], r, Omega1, maxiter=500)\n",
    "# [T2, Rec2, V2] = cmtf(X1, None, None, r, Omega1, maxiter=500)\n",
    "fit_coupled_matrices_1 = [np.dot(T1.Us[n], V1[n].T) for n in range(dims)]\n",
    "\n",
    "# Error Testing\n",
    "from pyten.tools import tenerror\n",
    "\n",
    "realX = sol1.totensor()\n",
    "[Err1, ReErr11, ReErr21] = tenerror(Rec1, realX, Omega1)\n",
    "# [Err1, ReErr12, ReErr22] = tenerror(Rec2, realX, Omega1)\n",
    "print '\\n', 'The Relative Error of the Two Methods are:', ReErr11\n"
   ]
  },
  {
   "cell_type": "markdown",
   "metadata": {},
   "source": [
    "### Scenario 3: Dynamic Tensor Decomposition/Completion"
   ]
  },
  {
   "cell_type": "code",
   "execution_count": null,
   "metadata": {
    "collapsed": false
   },
   "outputs": [],
   "source": [
    "from pyten.method import onlineCP, OLSGD\n",
    "from pyten.tools import create  # Import the problem creation function\n",
    "from pyten.tools import tenerror\n",
    "import numpy as np\n",
    "\n",
    "problem = 'dynamic'  # Define Problem As Dynamic Tensor Completion Problem\n",
    "time_steps = 10  # Define the Number of Total Time Steps\n",
    "siz = np.array([[1, 50, 50] for t in range(time_steps)])\n",
    "r = [4, 4, 4]  # Rank of the Created Synthetic Tensor\n",
    "miss = 0.8  # Missing Percentage\n",
    "# Create a Dynmaic Tensor Completion Problem\n",
    "[X1, Omega1, sol1, siz, time_steps] = create(problem, siz, r, miss, timestep=time_steps)\n",
    "\n",
    "for t in range(time_steps):\n",
    "    if t == 0:  # Initial Step\n",
    "        print('Initial Step\\n')\n",
    "        self1 = OLSGD(rank=r, mu=0.01, lmbda=0.1)  # OLSGD assume time is the first mode.\n",
    "        self1.update(X1[t], Omega1[t])  # Complete the initial tensor using OLSGD method.\n",
    "        # onlineCP assume time is the last mode.\n",
    "        self = onlineCP(X1[t].permute([1, 2, 0]), rank=r, tol=1e-8, printitn=0)  # Just decompose without completion using onlineCP\n",
    "    else:\n",
    "        if t==1:\n",
    "            print('Update Step\\n')\n",
    "        self1.update(X1[t], Omega1[t])  # Update Decomposition as well as Completion using OLSGD.\n",
    "        self.update(X1[t].permute([1, 2, 0]))  # Update Decomposition of onlineCP.\n",
    "    # Test Current Step OLSGD Completion Error\n",
    "    realX = sol1[t].totensor()\n",
    "    [Err1, ReErr11, ReErr21] = tenerror(self1.recx, realX, Omega1[t])\n",
    "    print 'OLSGD Recover Error at Current Step:', Err1, ReErr11, ReErr21\n",
    "\n"
   ]
  },
  {
   "cell_type": "markdown",
   "metadata": {},
   "source": [
    "### Scenario 4: Scalable Tensor Completion/Decomposition"
   ]
  },
  {
   "cell_type": "markdown",
   "metadata": {},
   "source": [
    "#### 1. Solve Synthetic Completion Problem"
   ]
  },
  {
   "cell_type": "code",
   "execution_count": null,
   "metadata": {
    "collapsed": false
   },
   "outputs": [],
   "source": [
    "from pyten.tools import create  # Import the problem creation function\n",
    "\n",
    "problem = 'basic'  # Define Problem As Basic Tensor Completion Problem\n",
    "siz = [20, 20, 20]  # Size of the Created Synthetic Tensor\n",
    "r = [4, 4, 4]  # Rank of the Created Synthetic Tensor\n",
    "miss = 0.8  # Missing Percentage\n",
    "tp = 'CP'  # Define Solution Format of the Created Synthetic Tensor As 'CP decomposition'\n",
    "[X1, Omega1, sol1] = create(problem, siz, r, miss, tp)\n",
    "\n",
    "# Basic Tensor Completion with methods: CP-ALS,Tucker-ALS, FaLRTC, SiLRTC, HaLRTC, TNCP\n",
    "from pyten.method import *\n",
    "\n",
    "r = 4  # Rank for CP-based methods\n",
    "R = [4, 4, 4]  # Rank for tucker-based methods\n",
    "\n",
    "# Distributed CP_ALS\n",
    "self0 = TensorDecompositionALS()\n",
    "self0.dir_data = X1  # Could also be '.csv' or '.txt' format, e.g. 'test/syntensor.csv', 'test/tensor_10x10x10_101.txt'\n",
    "self0.rank = r\n",
    "self0.run()\n",
    "\n",
    "# DistTensorADMM\n",
    "self1 = DistTensorADMM()\n",
    "self1.dir_data = X1  # Could also be '.csv' or '.txt' format, e.g. 'test/syntensor.csv', 'test/tensor_10x10x10_101.txt'\n",
    "self1.rank = r\n",
    "self1.run()\n",
    "\n",
    "# DistTensorCompletionADMM\n",
    "self2 = DistTensorCompletionADMM()\n",
    "self2.dir_data = X1  # Could also be '.csv' or '.txt' format, e.g. 'test/syntensor.csv', 'test/tensor_10x10x10_101.txt'\n",
    "self2.rank = r\n",
    "self2.run()\n",
    "\n",
    "# Error Testing\n",
    "from pyten.tools import tenerror\n",
    "realX = sol1.totensor()\n",
    "[Err1, ReErr11, ReErr21] = tenerror(self0.ktensor.totensor(), realX, Omega1)\n",
    "[Err2, ReErr21, ReErr22] = tenerror(self1.ktensor.totensor(), realX, Omega1)\n",
    "RecTensor = self2.ktensor.totensor().data*(1-Omega1)+X1.data*Omega1\n",
    "[Err3, ReErr31, ReErr32] = tenerror(RecTensor, realX, Omega1)\n",
    "print '\\n', 'The Relative Error of the Three Distributed Methods are:', ReErr21, ReErr22, ReErr32\n",
    "\n"
   ]
  },
  {
   "cell_type": "markdown",
   "metadata": {},
   "source": [
    "### Scenario *: Other Decomposition Method"
   ]
  },
  {
   "cell_type": "markdown",
   "metadata": {
    "collapsed": true
   },
   "source": [
    "#### 1. PARAFAC2"
   ]
  },
  {
   "cell_type": "code",
   "execution_count": null,
   "metadata": {
    "collapsed": false
   },
   "outputs": [],
   "source": [
    "# Create multiset\n",
    "from pyten.method import parafac2  # Import the problem creation function\n",
    "from pyten.tools import create  # Import the problem creation function\n",
    "\n",
    "problem = 'basic'  # Define Problem As Basic Tensor Completion Problem\n",
    "siz = [30, 50, 40]  # Size of the Created Synthetic Tensor\n",
    "r = 5  # Rank of the Created Synthetic Tensor\n",
    "miss = 0  # Missing Percentage\n",
    "tp = 'Parafac2'  # Define Solution Format of the Created Synthetic Tensor As 'CP decomposition'\n",
    "[X1, Omega1, sol1] = create(problem, siz, r, miss, tp, share_mode_size=10)\n",
    "self = parafac2.PARAFAC2(X1, r, printitn=100, maxiter=1000, tol=1e-7)\n",
    "self.run()"
   ]
  },
  {
   "cell_type": "code",
   "execution_count": null,
   "metadata": {
    "collapsed": true
   },
   "outputs": [],
   "source": []
  }
 ],
 "metadata": {
  "anaconda-cloud": {},
  "kernelspec": {
   "display_name": "Python [default]",
   "language": "python",
   "name": "python2"
  },
  "language_info": {
   "codemirror_mode": {
    "name": "ipython",
    "version": 2
   },
   "file_extension": ".py",
   "mimetype": "text/x-python",
   "name": "python",
   "nbconvert_exporter": "python",
   "pygments_lexer": "ipython2",
   "version": "2.7.12"
  }
 },
 "nbformat": 4,
 "nbformat_minor": 2
}
